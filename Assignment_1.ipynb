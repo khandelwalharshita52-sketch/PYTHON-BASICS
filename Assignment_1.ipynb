{
  "nbformat": 4,
  "nbformat_minor": 0,
  "metadata": {
    "colab": {
      "provenance": []
    },
    "kernelspec": {
      "name": "python3",
      "display_name": "Python 3"
    },
    "language_info": {
      "name": "python"
    }
  },
  "cells": [
    {
      "cell_type": "markdown",
      "source": [
        "Ans -1 python Is a programming language that gives instructions to computer in codes.\n",
        "It is widely used as this is most easy to learn and understand python and is widely used accross all industries."
      ],
      "metadata": {
        "id": "jBb8KRXVXBiw"
      }
    },
    {
      "cell_type": "markdown",
      "source": [
        "Ans-2 interpreter interpret  the code in python line by line and gives a desired results put of the instructions"
      ],
      "metadata": {
        "id": "sedrCvpuWP_Z"
      }
    },
    {
      "cell_type": "markdown",
      "source": [
        "Ans-3 predefined keywords are set words that holds a specific meaning and have specific purpose in python eg:- if,for"
      ],
      "metadata": {
        "id": "4aO4pzm9VyEw"
      }
    },
    {
      "cell_type": "markdown",
      "source": [
        "Ans-4 No keywords cannot be used as variables in python as keywords are reserved words that have a specific meaning and purpose."
      ],
      "metadata": {
        "id": "JlCZpm2QX2h0"
      }
    },
    {
      "cell_type": "markdown",
      "source": [
        "Ans-5 mutability in python is the ability to change or modify the elements."
      ],
      "metadata": {
        "id": "oLOSHT-ZY0Nv"
      }
    },
    {
      "cell_type": "markdown",
      "source": [
        "Ans-6 Lists are mutable because it can store elements that can be changed whole tuples are unique elements that are not changed tuples are ordered collection of items."
      ],
      "metadata": {
        "id": "EGwuHDWBZMQe"
      }
    },
    {
      "cell_type": "markdown",
      "source": [
        "Ans-7 == compares the two values in terms of their content while is operator compare the identity of two elements."
      ],
      "metadata": {
        "id": "e_CHadw2aBp1"
      }
    },
    {
      "cell_type": "markdown",
      "source": [
        "Ans-8 Logical Operators are used to compare multiple Boolean conditions.\n",
        "There are two logical operators AND and OR."
      ],
      "metadata": {
        "id": "cwqqzVwhathb"
      }
    },
    {
      "cell_type": "markdown",
      "source": [
        "Ans-9 Typecasting is a process of changing data type of value/object.\n",
        "There are two types Implicit and explicit Typecasting."
      ],
      "metadata": {
        "id": "ElXy4xKkbZmq"
      }
    },
    {
      "cell_type": "markdown",
      "source": [
        "Ans-10 Implicit Typecasting is a Typecasting where python automatically converts one data type to another without user intervention.\n",
        "Eg:-a=\"2\"\n",
        "Type(a)=str\n",
        "Explicit Typecasting is where a user has to manually convert one data type to another eg:x=\"2\"\n",
        "Print (type(int(x))"
      ],
      "metadata": {
        "id": "dJchZfxNcGSt"
      }
    },
    {
      "cell_type": "markdown",
      "source": [
        "Ans -11 Conditions statements helps you to code decision based on precondition.If certain conditions fulfills code is executed\n",
        "Eg:if,else"
      ],
      "metadata": {
        "id": "MwYU9aPZdSon"
      }
    },
    {
      "cell_type": "markdown",
      "source": [
        "Ans- 12 elif checks multiple condition in a cleaner way then writing many if condition.\n",
        "Example:-"
      ],
      "metadata": {
        "id": "NAQusyVSds-M"
      }
    },
    {
      "cell_type": "code",
      "source": [
        "age=18\n",
        "if age < 13:\n",
        "    print(\"You are kid\")\n",
        "elif age < 16:\n",
        "    print(\"You cannot vote.\")\n",
        "else:\n",
        "    print(\"You can vote.\")\n"
      ],
      "metadata": {
        "colab": {
          "base_uri": "https://localhost:8080/"
        },
        "id": "aQf7PQASYucV",
        "outputId": "b04caa16-37d8-438a-b387-0749378b62dc"
      },
      "execution_count": 5,
      "outputs": [
        {
          "output_type": "stream",
          "name": "stdout",
          "text": [
            "You can vote.\n"
          ]
        }
      ]
    },
    {
      "cell_type": "markdown",
      "source": [
        "*Ans*,-13 while loops allows you to excute a block of code until a condition is met whereas for loops executes over a sequence of elements .\n",
        "example:-"
      ],
      "metadata": {
        "id": "i1_lPQq1e7eo"
      }
    },
    {
      "cell_type": "code",
      "source": [
        "#while loop\n",
        "n=6\n",
        "i=1\n",
        "while i>n:\n",
        "  print(i)\n",
        "  i=i+1\n"
      ],
      "metadata": {
        "id": "s750nHQ3aaUH"
      },
      "execution_count": 13,
      "outputs": []
    },
    {
      "cell_type": "code",
      "source": [
        "#for  loop\n",
        "for i  in range(1,8):\n",
        "  print(i)"
      ],
      "metadata": {
        "colab": {
          "base_uri": "https://localhost:8080/"
        },
        "id": "j7CPb9oGbD6b",
        "outputId": "a9e49e29-766b-4177-a7ae-0cba19cf2024"
      },
      "execution_count": 12,
      "outputs": [
        {
          "output_type": "stream",
          "name": "stdout",
          "text": [
            "1\n",
            "2\n",
            "3\n",
            "4\n",
            "5\n",
            "6\n",
            "7\n"
          ]
        }
      ]
    },
    {
      "cell_type": "markdown",
      "source": [
        "ans-14 while loop is more suitable when you don't know how many times loop should run example\n",
        "\n"
      ],
      "metadata": {
        "id": "TBF9EOl7bR6R"
      }
    },
    {
      "cell_type": "code",
      "source": [
        "# Simple game loop\n",
        "command = \"\"\n",
        "\n",
        "while command.lower() != \"quit\":\n",
        "    command = input(\"Type a command (or 'quit' to exit): \")\n",
        "    if command.lower() != \"quit\":\n",
        "        print(f\"You entered: {command}\")\n",
        "\n",
        "print(\"Game ended.\")\n",
        "\n"
      ],
      "metadata": {
        "colab": {
          "base_uri": "https://localhost:8080/"
        },
        "id": "0PDV8FGXbg_d",
        "outputId": "9d0da14e-f2b8-4ea3-c6ab-6dff0e4916d1"
      },
      "execution_count": 21,
      "outputs": [
        {
          "output_type": "stream",
          "name": "stdout",
          "text": [
            "Type a command (or 'quit' to exit): quit\n",
            "Game ended.\n"
          ]
        }
      ]
    },
    {
      "cell_type": "markdown",
      "source": [
        "***practical questions**"
      ],
      "metadata": {
        "id": "MON8P9ucdZ5D"
      }
    },
    {
      "cell_type": "code",
      "source": [
        "#ans-1\n",
        "print(\"hello world\")"
      ],
      "metadata": {
        "colab": {
          "base_uri": "https://localhost:8080/"
        },
        "id": "uMLmMoi8dePy",
        "outputId": "f20bf4d6-d536-49f2-ba97-0f632d80be27"
      },
      "execution_count": 23,
      "outputs": [
        {
          "output_type": "stream",
          "name": "stdout",
          "text": [
            "hello world\n"
          ]
        }
      ]
    },
    {
      "cell_type": "code",
      "source": [
        "#ans-2\n",
        "# Ask the user for their name and age\n",
        "name = input(\"Enter your name: \")\n",
        "age = input(\"Enter your age: \")\n",
        "\n",
        "# Display the information\n",
        "print(\"Your name is\", name)\n",
        "print(\"You are\", age, \"years old\")"
      ],
      "metadata": {
        "colab": {
          "base_uri": "https://localhost:8080/"
        },
        "id": "fzDLedZGdk6h",
        "outputId": "91d56cca-9345-432e-e4a6-cde820b8aa70"
      },
      "execution_count": 24,
      "outputs": [
        {
          "output_type": "stream",
          "name": "stdout",
          "text": [
            "Enter your name: harshita\n",
            "Enter your age: 23\n",
            "Your name is harshita\n",
            "You are 23 years old\n"
          ]
        }
      ]
    },
    {
      "cell_type": "code",
      "source": [
        "#ans-3\n",
        "help(\"keywords\")"
      ],
      "metadata": {
        "colab": {
          "base_uri": "https://localhost:8080/"
        },
        "id": "yQvHfh1Wd0Iv",
        "outputId": "c40a2732-1e54-4b0d-aba4-2a6fc761a4c0"
      },
      "execution_count": 28,
      "outputs": [
        {
          "output_type": "stream",
          "name": "stdout",
          "text": [
            "\n",
            "Here is a list of the Python keywords.  Enter any keyword to get more help.\n",
            "\n",
            "False               class               from                or\n",
            "None                continue            global              pass\n",
            "True                def                 if                  raise\n",
            "and                 del                 import              return\n",
            "as                  elif                in                  try\n",
            "assert              else                is                  while\n",
            "async               except              lambda              with\n",
            "await               finally             nonlocal            yield\n",
            "break               for                 not                 \n",
            "\n"
          ]
        }
      ]
    },
    {
      "cell_type": "code",
      "source": [
        "#ans-4\n",
        "import keyword\n",
        "\n",
        "word = input(\"enter a word: \")\n",
        "if keyword.iskeyword(word):\n",
        "    print(\"python keyword\")\n",
        "else:\n",
        "    print(\"not a python keyword\")"
      ],
      "metadata": {
        "colab": {
          "base_uri": "https://localhost:8080/"
        },
        "id": "8Yh0pXyLeQo5",
        "outputId": "24db2fc7-14d5-4b2d-8658-1e8a7b681d13"
      },
      "execution_count": 33,
      "outputs": [
        {
          "output_type": "stream",
          "name": "stdout",
          "text": [
            "enter a word: if\n",
            "python keyword\n"
          ]
        }
      ]
    },
    {
      "cell_type": "code",
      "source": [
        "#ans-5\n",
        "#list change\n",
        "lis=[1,2,3,\"ajay\",\"ram\"]\n",
        "lis[0]=\"4\"\n"
      ],
      "metadata": {
        "id": "apwNUsQafas5"
      },
      "execution_count": 36,
      "outputs": []
    },
    {
      "cell_type": "code",
      "source": [
        "lis[0]"
      ],
      "metadata": {
        "colab": {
          "base_uri": "https://localhost:8080/",
          "height": 35
        },
        "id": "zeVQorWYgJRf",
        "outputId": "7ccebb5e-c3dd-45e0-b8d0-53e5240c468c"
      },
      "execution_count": 37,
      "outputs": [
        {
          "output_type": "execute_result",
          "data": {
            "text/plain": [
              "'4'"
            ],
            "application/vnd.google.colaboratory.intrinsic+json": {
              "type": "string"
            }
          },
          "metadata": {},
          "execution_count": 37
        }
      ]
    },
    {
      "cell_type": "code",
      "source": [
        "#tuple change\n",
        "a=(1,2,3,\"ajay\",\"ram\")\n",
        "a[0]=\"4\""
      ],
      "metadata": {
        "colab": {
          "base_uri": "https://localhost:8080/",
          "height": 176
        },
        "id": "4_t3MmkMgLp9",
        "outputId": "55a9725f-e97b-4115-ca12-6abe0c36f31a"
      },
      "execution_count": 38,
      "outputs": [
        {
          "output_type": "error",
          "ename": "TypeError",
          "evalue": "'tuple' object does not support item assignment",
          "traceback": [
            "\u001b[0;31m---------------------------------------------------------------------------\u001b[0m",
            "\u001b[0;31mTypeError\u001b[0m                                 Traceback (most recent call last)",
            "\u001b[0;32m/tmp/ipython-input-38-3943652931.py\u001b[0m in \u001b[0;36m<cell line: 0>\u001b[0;34m()\u001b[0m\n\u001b[1;32m      1\u001b[0m \u001b[0;31m#tuple change\u001b[0m\u001b[0;34m\u001b[0m\u001b[0;34m\u001b[0m\u001b[0m\n\u001b[1;32m      2\u001b[0m \u001b[0ma\u001b[0m\u001b[0;34m=\u001b[0m\u001b[0;34m(\u001b[0m\u001b[0;36m1\u001b[0m\u001b[0;34m,\u001b[0m\u001b[0;36m2\u001b[0m\u001b[0;34m,\u001b[0m\u001b[0;36m3\u001b[0m\u001b[0;34m,\u001b[0m\u001b[0;34m\"ajay\"\u001b[0m\u001b[0;34m,\u001b[0m\u001b[0;34m\"ram\"\u001b[0m\u001b[0;34m)\u001b[0m\u001b[0;34m\u001b[0m\u001b[0;34m\u001b[0m\u001b[0m\n\u001b[0;32m----> 3\u001b[0;31m \u001b[0ma\u001b[0m\u001b[0;34m[\u001b[0m\u001b[0;36m0\u001b[0m\u001b[0;34m]\u001b[0m\u001b[0;34m=\u001b[0m\u001b[0;34m\"4\"\u001b[0m\u001b[0;34m\u001b[0m\u001b[0;34m\u001b[0m\u001b[0m\n\u001b[0m",
            "\u001b[0;31mTypeError\u001b[0m: 'tuple' object does not support item assignment"
          ]
        }
      ]
    },
    {
      "cell_type": "markdown",
      "source": [
        "this is how change in tuple is not possible in python\n"
      ],
      "metadata": {
        "id": "yWdMtLrhgYCX"
      }
    },
    {
      "cell_type": "code",
      "source": [
        "#ans-7\n",
        "a=5\n",
        "b=7\n",
        "print(a+b)\n"
      ],
      "metadata": {
        "colab": {
          "base_uri": "https://localhost:8080/"
        },
        "id": "Ts1BJW9rgFxq",
        "outputId": "38658538-c854-4b9c-9528-6b84e333a22b"
      },
      "execution_count": 40,
      "outputs": [
        {
          "output_type": "stream",
          "name": "stdout",
          "text": [
            "12\n"
          ]
        }
      ]
    },
    {
      "cell_type": "code",
      "source": [
        "#ans-8\n",
        "a=1\n",
        "b=0\n",
        "print(a and b )\n"
      ],
      "metadata": {
        "colab": {
          "base_uri": "https://localhost:8080/"
        },
        "id": "4-Vi_m3WhpYY",
        "outputId": "b7405f83-8e5e-4309-cf85-76ed23b2d7b9"
      },
      "execution_count": 42,
      "outputs": [
        {
          "output_type": "stream",
          "name": "stdout",
          "text": [
            "0\n"
          ]
        }
      ]
    },
    {
      "cell_type": "code",
      "source": [
        "#ans-9\n",
        "#string to integer\n",
        "a=\"3\"\n",
        "type(a)\n"
      ],
      "metadata": {
        "colab": {
          "base_uri": "https://localhost:8080/"
        },
        "id": "GLQ0jxWyh-BM",
        "outputId": "0355a363-7bdb-4a68-e462-ec7701dcf3ee"
      },
      "execution_count": 49,
      "outputs": [
        {
          "output_type": "execute_result",
          "data": {
            "text/plain": [
              "str"
            ]
          },
          "metadata": {},
          "execution_count": 49
        }
      ]
    },
    {
      "cell_type": "code",
      "source": [
        "a=int(a)"
      ],
      "metadata": {
        "id": "SrwBu0jLipHX"
      },
      "execution_count": 62,
      "outputs": []
    },
    {
      "cell_type": "code",
      "source": [
        "type(a)"
      ],
      "metadata": {
        "colab": {
          "base_uri": "https://localhost:8080/"
        },
        "id": "nAITiXXckeXh",
        "outputId": "a07eebeb-1bef-4c08-fc06-03edc2ec235c"
      },
      "execution_count": 63,
      "outputs": [
        {
          "output_type": "execute_result",
          "data": {
            "text/plain": [
              "int"
            ]
          },
          "metadata": {},
          "execution_count": 63
        }
      ]
    },
    {
      "cell_type": "code",
      "source": [
        "#change to float\n",
        "a=\"2\"\n",
        "type(a)"
      ],
      "metadata": {
        "colab": {
          "base_uri": "https://localhost:8080/"
        },
        "id": "SIeExZyYihsB",
        "outputId": "8765157c-84d0-4dfa-dcfa-ba4160f82e9a"
      },
      "execution_count": 54,
      "outputs": [
        {
          "output_type": "execute_result",
          "data": {
            "text/plain": [
              "str"
            ]
          },
          "metadata": {},
          "execution_count": 54
        }
      ]
    },
    {
      "cell_type": "code",
      "source": [
        "a=float(a)"
      ],
      "metadata": {
        "id": "BuuGcCwBjsT-"
      },
      "execution_count": 57,
      "outputs": []
    },
    {
      "cell_type": "code",
      "source": [
        "type(a)"
      ],
      "metadata": {
        "colab": {
          "base_uri": "https://localhost:8080/"
        },
        "id": "R55OcKdQkG5W",
        "outputId": "c183236e-d42d-4073-de6b-29fd9990b00a"
      },
      "execution_count": 58,
      "outputs": [
        {
          "output_type": "execute_result",
          "data": {
            "text/plain": [
              "float"
            ]
          },
          "metadata": {},
          "execution_count": 58
        }
      ]
    },
    {
      "cell_type": "code",
      "source": [
        "#change to boolean\n",
        "a=\"2\"\n",
        "type(a)"
      ],
      "metadata": {
        "colab": {
          "base_uri": "https://localhost:8080/"
        },
        "id": "jDtvZxmBj2oY",
        "outputId": "1bd12b2f-d35e-49c2-c364-e87e78ad7e4a"
      },
      "execution_count": 59,
      "outputs": [
        {
          "output_type": "execute_result",
          "data": {
            "text/plain": [
              "str"
            ]
          },
          "metadata": {},
          "execution_count": 59
        }
      ]
    },
    {
      "cell_type": "code",
      "source": [
        "a=bool(a)"
      ],
      "metadata": {
        "id": "6zm4L8kpiVbr"
      },
      "execution_count": 60,
      "outputs": []
    },
    {
      "cell_type": "code",
      "source": [
        "type(a)"
      ],
      "metadata": {
        "colab": {
          "base_uri": "https://localhost:8080/"
        },
        "id": "h1xY0VC7kYzz",
        "outputId": "e65e05a8-55ee-48cd-c802-626458fc6e99"
      },
      "execution_count": 61,
      "outputs": [
        {
          "output_type": "execute_result",
          "data": {
            "text/plain": [
              "bool"
            ]
          },
          "metadata": {},
          "execution_count": 61
        }
      ]
    },
    {
      "cell_type": "code",
      "source": [
        "#ans-10\n",
        "l=[1,2,3,4,5]\n",
        "print(l)"
      ],
      "metadata": {
        "colab": {
          "base_uri": "https://localhost:8080/"
        },
        "id": "Od9nKOzEkai9",
        "outputId": "28c6e7ff-94d8-465b-c58a-0b6bbecbb9a9"
      },
      "execution_count": 64,
      "outputs": [
        {
          "output_type": "stream",
          "name": "stdout",
          "text": [
            "[1, 2, 3, 4, 5]\n"
          ]
        }
      ]
    },
    {
      "cell_type": "code",
      "source": [
        "type(l)"
      ],
      "metadata": {
        "colab": {
          "base_uri": "https://localhost:8080/"
        },
        "id": "rVE_J9EPhnlM",
        "outputId": "538087bf-e1f3-49f1-bf89-6efe67f0e05e"
      },
      "execution_count": 66,
      "outputs": [
        {
          "output_type": "execute_result",
          "data": {
            "text/plain": [
              "list"
            ]
          },
          "metadata": {},
          "execution_count": 66
        }
      ]
    },
    {
      "cell_type": "code",
      "source": [
        "l=tuple(l)"
      ],
      "metadata": {
        "id": "8NsN9A0Vs1zm"
      },
      "execution_count": 68,
      "outputs": []
    },
    {
      "cell_type": "code",
      "source": [
        "type(l)"
      ],
      "metadata": {
        "colab": {
          "base_uri": "https://localhost:8080/"
        },
        "id": "DtPcHpoUs96V",
        "outputId": "7975dab6-f9d8-4bba-dea3-cbae67d2f27c"
      },
      "execution_count": 69,
      "outputs": [
        {
          "output_type": "execute_result",
          "data": {
            "text/plain": [
              "tuple"
            ]
          },
          "metadata": {},
          "execution_count": 69
        }
      ]
    },
    {
      "cell_type": "code",
      "source": [
        "#ans-11\n",
        "# Ask the user to enter a number\n",
        "num = float(input(\"Enter a number: \"))\n",
        "\n",
        "# Check if the number is positive, negative, or zero\n",
        "if num > 0:\n",
        "    print(\"The number is positive.\")\n",
        "elif num < 0:\n",
        "    print(\"The number is negative.\")\n",
        "else:\n",
        "    print(\"The number is zero.\")\n"
      ],
      "metadata": {
        "colab": {
          "base_uri": "https://localhost:8080/"
        },
        "id": "3phqu3JPtkoW",
        "outputId": "1d4f08ea-0650-4de5-8c40-b94db39886bf"
      },
      "execution_count": 84,
      "outputs": [
        {
          "output_type": "stream",
          "name": "stdout",
          "text": [
            "Enter a number: 5\n",
            "The number is positive.\n"
          ]
        }
      ]
    },
    {
      "cell_type": "code",
      "source": [
        "#ans-12\n",
        "#for loop for number 1 to 10\n",
        "for i in range(1,11):\n",
        "  print(i)"
      ],
      "metadata": {
        "colab": {
          "base_uri": "https://localhost:8080/"
        },
        "id": "Cpc495S5tgnj",
        "outputId": "3119eabb-562c-4c0f-8eb8-fa7cb5d5ef2d"
      },
      "execution_count": 85,
      "outputs": [
        {
          "output_type": "stream",
          "name": "stdout",
          "text": [
            "1\n",
            "2\n",
            "3\n",
            "4\n",
            "5\n",
            "6\n",
            "7\n",
            "8\n",
            "9\n",
            "10\n"
          ]
        }
      ]
    },
    {
      "cell_type": "code",
      "source": [
        "#ans-13\n",
        "total=0\n",
        "# Loop through numbers from 1 to 50\n",
        "for num in range(1, 51):\n",
        "    if num % 2 == 0:  # Check if the number is even\n",
        "        total += num\n",
        "\n",
        "# Display the result\n",
        "print(\"Sum of all even numbers between 1 and 50 is:\", total)"
      ],
      "metadata": {
        "colab": {
          "base_uri": "https://localhost:8080/"
        },
        "id": "VXwRqdhruzgF",
        "outputId": "ff715922-eeb9-492e-bcb6-55035da87a93"
      },
      "execution_count": 87,
      "outputs": [
        {
          "output_type": "stream",
          "name": "stdout",
          "text": [
            "Sum of all even numbers between 1 and 50 is: 650\n"
          ]
        }
      ]
    },
    {
      "cell_type": "code",
      "source": [
        "#ans-14\n",
        "# Input string from user\n",
        "text = input(\"Enter a string: \")\n",
        "\n",
        "# Initialize variables\n",
        "reversed_text = \"\"\n",
        "index = 0\n",
        "\n",
        "# While loop to iterate through each character\n",
        "while index < len(text):\n",
        "    reversed_text = text[index] + reversed_text  # Prepend the character\n",
        "    index += 1\n",
        "\n",
        "# Print the reversed string\n",
        "print(\"Reversed string:\", reversed_text)\n"
      ],
      "metadata": {
        "colab": {
          "base_uri": "https://localhost:8080/"
        },
        "id": "wi57NeAEs6L2",
        "outputId": "3222e631-3d47-4864-e232-fb6a9807d6ec"
      },
      "execution_count": 88,
      "outputs": [
        {
          "output_type": "stream",
          "name": "stdout",
          "text": [
            "Enter a string: ajay\n",
            "Reversed string: yaja\n"
          ]
        }
      ]
    },
    {
      "cell_type": "code",
      "source": [
        "#ans-15\n",
        "## Ask the user to enter a number\n",
        "num = int(input(\"Enter a number: \"))\n",
        "\n",
        "# Initialize factorial result and counter\n",
        "factorial = 1\n",
        "i = 1\n",
        "\n",
        "# Use while loop to calculate factorial\n",
        "while i <= num:\n",
        "    factorial *= i\n",
        "    i += 1\n",
        "\n",
        "# Display the result\n",
        "print(f\"The factorial of {num} is {factorial}\")\n"
      ],
      "metadata": {
        "colab": {
          "base_uri": "https://localhost:8080/"
        },
        "id": "YvDMHApos0aJ",
        "outputId": "6c6d2dd0-80b9-4002-aa61-118a8e2bd910"
      },
      "execution_count": 89,
      "outputs": [
        {
          "output_type": "stream",
          "name": "stdout",
          "text": [
            "Enter a number: 5\n",
            "The factorial of 5 is 120\n"
          ]
        }
      ]
    },
    {
      "cell_type": "code",
      "source": [],
      "metadata": {
        "id": "Ciq0dGa5eKCY"
      },
      "execution_count": null,
      "outputs": []
    }
  ]
}